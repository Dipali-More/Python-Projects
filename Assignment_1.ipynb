{
  "nbformat": 4,
  "nbformat_minor": 0,
  "metadata": {
    "colab": {
      "provenance": []
    },
    "kernelspec": {
      "name": "python3",
      "display_name": "Python 3"
    },
    "language_info": {
      "name": "python"
    }
  },
  "cells": [
    {
      "cell_type": "markdown",
      "source": [
        "Problem 1- Variables and Data Types"
      ],
      "metadata": {
        "id": "Uby2rvndy1hJ"
      }
    },
    {
      "cell_type": "code",
      "execution_count": null,
      "metadata": {
        "id": "P5fWn6717IRv"
      },
      "outputs": [],
      "source": [
        "name = \"Kabir\""
      ]
    },
    {
      "cell_type": "code",
      "source": [
        "age = 20"
      ],
      "metadata": {
        "id": "SiMx92p37MAb"
      },
      "execution_count": null,
      "outputs": []
    },
    {
      "cell_type": "code",
      "source": [
        "has_android_phone = True"
      ],
      "metadata": {
        "id": "GRBLQXpX7Qlw"
      },
      "execution_count": null,
      "outputs": []
    },
    {
      "cell_type": "code",
      "source": [
        "name , age , has_android_phone"
      ],
      "metadata": {
        "colab": {
          "base_uri": "https://localhost:8080/"
        },
        "id": "gKHrKuSN7tdo",
        "outputId": "335cfe09-7be7-4f6d-da72-66081640d4b8"
      },
      "execution_count": null,
      "outputs": [
        {
          "output_type": "execute_result",
          "data": {
            "text/plain": [
              "('Kabir', 20, True)"
            ]
          },
          "metadata": {},
          "execution_count": 140
        }
      ]
    },
    {
      "cell_type": "code",
      "source": [
        "person = {name: \"Kabir\", age: 20 , has_android_phone: True} \n",
        "person"
      ],
      "metadata": {
        "id": "NUli41327wXj",
        "colab": {
          "base_uri": "https://localhost:8080/"
        },
        "outputId": "8eab5747-32fb-41a8-ec9c-edb83f07b805"
      },
      "execution_count": null,
      "outputs": [
        {
          "output_type": "execute_result",
          "data": {
            "text/plain": [
              "{'Kabir': 'Kabir', 20: 20, True: True}"
            ]
          },
          "metadata": {},
          "execution_count": 142
        }
      ]
    },
    {
      "cell_type": "code",
      "source": [
        "print (person[name] , \"is\" , person[age], \",\", \"owns an android phone\" if person[has_android_phone] else \"none\")"
      ],
      "metadata": {
        "id": "9oePqg3SHyIb",
        "colab": {
          "base_uri": "https://localhost:8080/"
        },
        "outputId": "9e7f3504-420f-40ba-a0b0-fa5e63f13782"
      },
      "execution_count": null,
      "outputs": [
        {
          "output_type": "stream",
          "name": "stdout",
          "text": [
            "Kabir is 20 , owns an android phone\n"
          ]
        }
      ]
    },
    {
      "cell_type": "code",
      "source": [
        "for i in person:\n",
        "  print(\"the key\",person[i],\"has the value \", type(person[i]))"
      ],
      "metadata": {
        "colab": {
          "base_uri": "https://localhost:8080/"
        },
        "id": "PLyB6Yhp0taE",
        "outputId": "ee77f927-5df3-4a94-b5ea-387c1cd98f40"
      },
      "execution_count": null,
      "outputs": [
        {
          "output_type": "stream",
          "name": "stdout",
          "text": [
            "the key Kabir has the value  <class 'str'>\n",
            "the key 20 has the value  <class 'int'>\n",
            "the key True has the value  <class 'bool'>\n"
          ]
        }
      ]
    },
    {
      "cell_type": "markdown",
      "source": [
        "Problem 2 Working with Lists "
      ],
      "metadata": {
        "id": "FgcH6_uWy9_q"
      }
    },
    {
      "cell_type": "code",
      "source": [
        "favlist=[\"Blue\",1,False]"
      ],
      "metadata": {
        "id": "SuWPp2Z_zGb8"
      },
      "execution_count": null,
      "outputs": []
    },
    {
      "cell_type": "code",
      "source": [
        "favlist"
      ],
      "metadata": {
        "colab": {
          "base_uri": "https://localhost:8080/"
        },
        "id": "MwCPgaHUzqOw",
        "outputId": "33626142-047b-422a-f7bd-33dc321456a6"
      },
      "execution_count": null,
      "outputs": [
        {
          "output_type": "execute_result",
          "data": {
            "text/plain": [
              "['Blue', 1, False]"
            ]
          },
          "metadata": {},
          "execution_count": 37
        }
      ]
    },
    {
      "cell_type": "code",
      "source": [
        "print(\"My favorite colour is\", favlist[0], \"and I have\", favlist[1],\"pet.\") "
      ],
      "metadata": {
        "colab": {
          "base_uri": "https://localhost:8080/"
        },
        "id": "8iiVNntPztYQ",
        "outputId": "49010b4c-5169-457b-c5e3-c5a4e5b36d4f"
      },
      "execution_count": null,
      "outputs": [
        {
          "output_type": "stream",
          "name": "stdout",
          "text": [
            "My favorite colour is Blue and I have 1 pet.\n"
          ]
        }
      ]
    },
    {
      "cell_type": "code",
      "source": [
        "if favlist[2]==False :\n",
        "  print(\"I dont have programmaning experience\")\n",
        "else : \n",
        "  print(\"I have previous programming exerience\")  "
      ],
      "metadata": {
        "colab": {
          "base_uri": "https://localhost:8080/"
        },
        "id": "7OeJVnmCz5bV",
        "outputId": "adfc5234-d297-47e8-b89e-9d5adce27eb7"
      },
      "execution_count": null,
      "outputs": [
        {
          "output_type": "stream",
          "name": "stdout",
          "text": [
            "I dont have programmaning experience\n"
          ]
        }
      ]
    },
    {
      "cell_type": "code",
      "source": [
        "favlist.append(3)"
      ],
      "metadata": {
        "id": "PbUl879R1HSI"
      },
      "execution_count": null,
      "outputs": []
    },
    {
      "cell_type": "code",
      "source": [
        "favlist"
      ],
      "metadata": {
        "colab": {
          "base_uri": "https://localhost:8080/"
        },
        "id": "ryEdxHFV16pQ",
        "outputId": "35963aa9-5816-4dce-b5ca-ef3031abc097"
      },
      "execution_count": null,
      "outputs": [
        {
          "output_type": "execute_result",
          "data": {
            "text/plain": [
              "['Blue', 1, False, 3]"
            ]
          },
          "metadata": {},
          "execution_count": 42
        }
      ]
    },
    {
      "cell_type": "code",
      "source": [
        "favlist.remove(\"Blue\")"
      ],
      "metadata": {
        "id": "G2f_sKSq2UFG"
      },
      "execution_count": null,
      "outputs": []
    },
    {
      "cell_type": "code",
      "source": [
        "print(len(favlist))"
      ],
      "metadata": {
        "colab": {
          "base_uri": "https://localhost:8080/"
        },
        "id": "A4-Hjf1u23Zv",
        "outputId": "02269c58-5cae-4506-f0d5-ee5404fac783"
      },
      "execution_count": null,
      "outputs": [
        {
          "output_type": "stream",
          "name": "stdout",
          "text": [
            "3\n"
          ]
        }
      ]
    },
    {
      "cell_type": "markdown",
      "source": [
        "Problem 3 - Conditions and Loops"
      ],
      "metadata": {
        "id": "XRfMIKC62Itl"
      }
    },
    {
      "cell_type": "code",
      "source": [
        "sum = 0\n",
        "for i in range(18,534):\n",
        "  if i%7==0:\n",
        "    sum = sum+i\n",
        "print(\"The sum is\", sum)    "
      ],
      "metadata": {
        "colab": {
          "base_uri": "https://localhost:8080/"
        },
        "id": "4ZX_N_AL2Nky",
        "outputId": "e0fd373e-b406-407a-f5d9-b785ae63d221"
      },
      "execution_count": null,
      "outputs": [
        {
          "output_type": "stream",
          "name": "stdout",
          "text": [
            "The sum is 20461\n"
          ]
        }
      ]
    },
    {
      "cell_type": "markdown",
      "source": [
        "Problem 4 - Flying to Bahamas"
      ],
      "metadata": {
        "id": "_DlfCPSppBJf"
      }
    },
    {
      "cell_type": "code",
      "source": [
        "flightcost = 5000\n",
        "ticketcost = 200\n",
        "passengers = 29 \n",
        "profit =passengers*ticketcost - flightcost"
      ],
      "metadata": {
        "id": "Uftw3aSF6tpa"
      },
      "execution_count": null,
      "outputs": []
    },
    {
      "cell_type": "code",
      "source": [
        "print(\"The profit is \", profit)"
      ],
      "metadata": {
        "colab": {
          "base_uri": "https://localhost:8080/"
        },
        "id": "wAgkajZvKjIB",
        "outputId": "15774e98-d681-48a0-ff91-94c96b1d3f4b"
      },
      "execution_count": null,
      "outputs": [
        {
          "output_type": "stream",
          "name": "stdout",
          "text": [
            "The profit is  800\n"
          ]
        }
      ]
    },
    {
      "cell_type": "code",
      "source": [
        "returnpassengers = 12 \n",
        "returncost = returnpassengers*ticketcost - flightcost\n",
        "returncost"
      ],
      "metadata": {
        "colab": {
          "base_uri": "https://localhost:8080/"
        },
        "id": "8xwlxvq6mmXP",
        "outputId": "cf2c8e5f-b892-43f2-b09b-29c511510e88"
      },
      "execution_count": null,
      "outputs": [
        {
          "output_type": "execute_result",
          "data": {
            "text/plain": [
              "-2600"
            ]
          },
          "metadata": {},
          "execution_count": 6
        }
      ]
    },
    {
      "cell_type": "code",
      "source": [
        "totalprofit = profit +returncost\n",
        "totalprofit"
      ],
      "metadata": {
        "colab": {
          "base_uri": "https://localhost:8080/"
        },
        "id": "Ev6CEJdKnsMa",
        "outputId": "807e7016-479b-4309-f86f-8d5d50ec8ad8"
      },
      "execution_count": null,
      "outputs": [
        {
          "output_type": "execute_result",
          "data": {
            "text/plain": [
              "-1800"
            ]
          },
          "metadata": {},
          "execution_count": 8
        }
      ]
    },
    {
      "cell_type": "code",
      "source": [
        "if totalprofit > flightcost:\n",
        "  print(\"The company profit is\", totalprofit)\n",
        "else:\n",
        "  print(\"The company loss is\", totalprofit)"
      ],
      "metadata": {
        "colab": {
          "base_uri": "https://localhost:8080/"
        },
        "id": "dqLW0oCWoGrZ",
        "outputId": "027c5323-eea5-46e9-bd32-4a9c2e3cf7c3"
      },
      "execution_count": null,
      "outputs": [
        {
          "output_type": "stream",
          "name": "stdout",
          "text": [
            "The company loss is -1800\n"
          ]
        }
      ]
    },
    {
      "cell_type": "markdown",
      "source": [
        "Problem 5 - Twitter Sentiment Analysis"
      ],
      "metadata": {
        "id": "PFMBaVdCpJi5"
      }
    },
    {
      "cell_type": "code",
      "source": [
        "tweets = [\n",
        "    \"Wow, what a great day today!! #sunshine\",\n",
        "    \"I feel sad about the things going on around us. #covid19\",\n",
        "    \"I'm really excited to learn Python with @JovianML #zerotopandas\",\n",
        "    \"This is a really nice song. #linkinpark\",\n",
        "    \"The python programming language is useful for data science\",\n",
        "    \"Why do bad things happen to me?\",\n",
        "    \"Apple announces the release of the new iPhone 12. Fans are excited.\",\n",
        "    \"Spent my day with family!! #happy\",\n",
        "    \"Check out my blog post on common string operations in Python. #zerotopandas\",\n",
        "    \"Freecodecamp has great coding tutorials. #skillup\"\n",
        "]\n",
        "happy_words = ['great', 'excited', 'happy', 'nice', 'wonderful', 'amazing', 'good', 'best'] \n",
        "sad_words =  ['sad', 'bad', 'tragic', 'unhappy', 'worst']"
      ],
      "metadata": {
        "id": "BcOClu6mo2Yi"
      },
      "execution_count": null,
      "outputs": []
    },
    {
      "cell_type": "code",
      "source": [
        "tweet1 = tweets[0]\n",
        "for i in happy_words:\n",
        "  if i in tweet1:\n",
        "    print( tweet1, \"-- is a Happy Tweet\")"
      ],
      "metadata": {
        "colab": {
          "base_uri": "https://localhost:8080/"
        },
        "id": "jaF1PE42gdfP",
        "outputId": "31d509be-382b-4177-a0ee-9f31a3f6a0ad"
      },
      "execution_count": null,
      "outputs": [
        {
          "output_type": "stream",
          "name": "stdout",
          "text": [
            "Wow, what a great day today!! #sunshine -- is a Happy Tweet\n"
          ]
        }
      ]
    },
    {
      "cell_type": "code",
      "source": [],
      "metadata": {
        "id": "nnux-oZ8hBh-"
      },
      "execution_count": null,
      "outputs": []
    }
  ]
}